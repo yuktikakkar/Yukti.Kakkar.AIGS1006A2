{
  "nbformat": 4,
  "nbformat_minor": 0,
  "metadata": {
    "colab": {
      "provenance": []
    },
    "kernelspec": {
      "name": "python3",
      "display_name": "Python 3"
    },
    "language_info": {
      "name": "python"
    }
  },
  "cells": [
    {
      "cell_type": "code",
      "source": [
        "import tensorflow as tf\n",
        "from tensorflow.keras.layers import Flatten, Dense\n",
        "from tensorflow.keras import utils\n",
        "from tensorflow.keras.datasets import mnist\n",
        "import numpy as np\n",
        "import matplotlib.pyplot as plt\n",
        "import pandas as pd\n",
        "\n",
        "from sklearn.preprocessing import MinMaxScaler\n",
        "from sklearn.model_selection import train_test_split\n",
        "from tensorflow.keras.utils import to_categorical\n",
        "from sklearn.metrics import classification_report\n",
        "from sklearn.metrics import confusion_matrix\n",
        "import seaborn as sns\n"
      ],
      "metadata": {
        "id": "MVCoUA5fnF6w"
      },
      "execution_count": 1,
      "outputs": []
    },
    {
      "cell_type": "code",
      "source": [
        "!ls *.txt"
      ],
      "metadata": {
        "id": "ySAO-j8iuupE",
        "colab": {
          "base_uri": "https://localhost:8080/"
        },
        "outputId": "ed653b6e-c7ae-49d1-a2a5-f2a365806eb4"
      },
      "execution_count": 2,
      "outputs": [
        {
          "output_type": "stream",
          "name": "stdout",
          "text": [
            "datatest2.txt  datatest.txt  datatraining.txt\n"
          ]
        }
      ]
    },
    {
      "cell_type": "code",
      "source": [
        "train_df = pd.read_csv('datatraining.txt')"
      ],
      "metadata": {
        "id": "4Z2VwLvof1y2"
      },
      "execution_count": 3,
      "outputs": []
    },
    {
      "cell_type": "code",
      "source": [
        "test_df = pd.read_csv('datatest.txt')"
      ],
      "metadata": {
        "id": "pxSysSjDKsf2"
      },
      "execution_count": 4,
      "outputs": []
    },
    {
      "cell_type": "code",
      "source": [
        "train_df.shape"
      ],
      "metadata": {
        "colab": {
          "base_uri": "https://localhost:8080/"
        },
        "id": "0wT-APzcqWkF",
        "outputId": "22980e61-e8ea-4d77-f8df-a90b7ba60c42"
      },
      "execution_count": 5,
      "outputs": [
        {
          "output_type": "execute_result",
          "data": {
            "text/plain": [
              "(8143, 7)"
            ]
          },
          "metadata": {},
          "execution_count": 5
        }
      ]
    },
    {
      "cell_type": "code",
      "source": [
        "test_df.shape"
      ],
      "metadata": {
        "colab": {
          "base_uri": "https://localhost:8080/"
        },
        "id": "_eImcBuPqYwR",
        "outputId": "d9cc58ec-075c-4d0b-9698-74584c06effa"
      },
      "execution_count": 6,
      "outputs": [
        {
          "output_type": "execute_result",
          "data": {
            "text/plain": [
              "(2665, 7)"
            ]
          },
          "metadata": {},
          "execution_count": 6
        }
      ]
    },
    {
      "cell_type": "markdown",
      "source": [
        "Qn a. answer: There are **8143** training samples and **2665** test samples."
      ],
      "metadata": {
        "id": "JcKvd3exqcop"
      }
    },
    {
      "cell_type": "code",
      "source": [
        "train_df = train_df.drop(['date'], axis=1)"
      ],
      "metadata": {
        "id": "vfAJ0n3kLYuI"
      },
      "execution_count": 7,
      "outputs": []
    },
    {
      "cell_type": "code",
      "source": [
        "test_df = test_df.drop(['date'], axis=1)"
      ],
      "metadata": {
        "id": "X62K9UR8L2Fe"
      },
      "execution_count": 8,
      "outputs": []
    },
    {
      "cell_type": "code",
      "source": [
        "train_df.head(3)"
      ],
      "metadata": {
        "colab": {
          "base_uri": "https://localhost:8080/",
          "height": 143
        },
        "id": "s9mtZCjbKmWJ",
        "outputId": "0e48c42b-6dac-427d-a697-025b0894b706"
      },
      "execution_count": 9,
      "outputs": [
        {
          "output_type": "execute_result",
          "data": {
            "text/plain": [
              "   Temperature  Humidity  Light     CO2  HumidityRatio  Occupancy\n",
              "1        23.18   27.2720  426.0  721.25       0.004793          1\n",
              "2        23.15   27.2675  429.5  714.00       0.004783          1\n",
              "3        23.15   27.2450  426.0  713.50       0.004779          1"
            ],
            "text/html": [
              "\n",
              "  <div id=\"df-8c27282c-95ee-46d0-9aca-d7de61c5470c\">\n",
              "    <div class=\"colab-df-container\">\n",
              "      <div>\n",
              "<style scoped>\n",
              "    .dataframe tbody tr th:only-of-type {\n",
              "        vertical-align: middle;\n",
              "    }\n",
              "\n",
              "    .dataframe tbody tr th {\n",
              "        vertical-align: top;\n",
              "    }\n",
              "\n",
              "    .dataframe thead th {\n",
              "        text-align: right;\n",
              "    }\n",
              "</style>\n",
              "<table border=\"1\" class=\"dataframe\">\n",
              "  <thead>\n",
              "    <tr style=\"text-align: right;\">\n",
              "      <th></th>\n",
              "      <th>Temperature</th>\n",
              "      <th>Humidity</th>\n",
              "      <th>Light</th>\n",
              "      <th>CO2</th>\n",
              "      <th>HumidityRatio</th>\n",
              "      <th>Occupancy</th>\n",
              "    </tr>\n",
              "  </thead>\n",
              "  <tbody>\n",
              "    <tr>\n",
              "      <th>1</th>\n",
              "      <td>23.18</td>\n",
              "      <td>27.2720</td>\n",
              "      <td>426.0</td>\n",
              "      <td>721.25</td>\n",
              "      <td>0.004793</td>\n",
              "      <td>1</td>\n",
              "    </tr>\n",
              "    <tr>\n",
              "      <th>2</th>\n",
              "      <td>23.15</td>\n",
              "      <td>27.2675</td>\n",
              "      <td>429.5</td>\n",
              "      <td>714.00</td>\n",
              "      <td>0.004783</td>\n",
              "      <td>1</td>\n",
              "    </tr>\n",
              "    <tr>\n",
              "      <th>3</th>\n",
              "      <td>23.15</td>\n",
              "      <td>27.2450</td>\n",
              "      <td>426.0</td>\n",
              "      <td>713.50</td>\n",
              "      <td>0.004779</td>\n",
              "      <td>1</td>\n",
              "    </tr>\n",
              "  </tbody>\n",
              "</table>\n",
              "</div>\n",
              "      <button class=\"colab-df-convert\" onclick=\"convertToInteractive('df-8c27282c-95ee-46d0-9aca-d7de61c5470c')\"\n",
              "              title=\"Convert this dataframe to an interactive table.\"\n",
              "              style=\"display:none;\">\n",
              "        \n",
              "  <svg xmlns=\"http://www.w3.org/2000/svg\" height=\"24px\"viewBox=\"0 0 24 24\"\n",
              "       width=\"24px\">\n",
              "    <path d=\"M0 0h24v24H0V0z\" fill=\"none\"/>\n",
              "    <path d=\"M18.56 5.44l.94 2.06.94-2.06 2.06-.94-2.06-.94-.94-2.06-.94 2.06-2.06.94zm-11 1L8.5 8.5l.94-2.06 2.06-.94-2.06-.94L8.5 2.5l-.94 2.06-2.06.94zm10 10l.94 2.06.94-2.06 2.06-.94-2.06-.94-.94-2.06-.94 2.06-2.06.94z\"/><path d=\"M17.41 7.96l-1.37-1.37c-.4-.4-.92-.59-1.43-.59-.52 0-1.04.2-1.43.59L10.3 9.45l-7.72 7.72c-.78.78-.78 2.05 0 2.83L4 21.41c.39.39.9.59 1.41.59.51 0 1.02-.2 1.41-.59l7.78-7.78 2.81-2.81c.8-.78.8-2.07 0-2.86zM5.41 20L4 18.59l7.72-7.72 1.47 1.35L5.41 20z\"/>\n",
              "  </svg>\n",
              "      </button>\n",
              "      \n",
              "  <style>\n",
              "    .colab-df-container {\n",
              "      display:flex;\n",
              "      flex-wrap:wrap;\n",
              "      gap: 12px;\n",
              "    }\n",
              "\n",
              "    .colab-df-convert {\n",
              "      background-color: #E8F0FE;\n",
              "      border: none;\n",
              "      border-radius: 50%;\n",
              "      cursor: pointer;\n",
              "      display: none;\n",
              "      fill: #1967D2;\n",
              "      height: 32px;\n",
              "      padding: 0 0 0 0;\n",
              "      width: 32px;\n",
              "    }\n",
              "\n",
              "    .colab-df-convert:hover {\n",
              "      background-color: #E2EBFA;\n",
              "      box-shadow: 0px 1px 2px rgba(60, 64, 67, 0.3), 0px 1px 3px 1px rgba(60, 64, 67, 0.15);\n",
              "      fill: #174EA6;\n",
              "    }\n",
              "\n",
              "    [theme=dark] .colab-df-convert {\n",
              "      background-color: #3B4455;\n",
              "      fill: #D2E3FC;\n",
              "    }\n",
              "\n",
              "    [theme=dark] .colab-df-convert:hover {\n",
              "      background-color: #434B5C;\n",
              "      box-shadow: 0px 1px 3px 1px rgba(0, 0, 0, 0.15);\n",
              "      filter: drop-shadow(0px 1px 2px rgba(0, 0, 0, 0.3));\n",
              "      fill: #FFFFFF;\n",
              "    }\n",
              "  </style>\n",
              "\n",
              "      <script>\n",
              "        const buttonEl =\n",
              "          document.querySelector('#df-8c27282c-95ee-46d0-9aca-d7de61c5470c button.colab-df-convert');\n",
              "        buttonEl.style.display =\n",
              "          google.colab.kernel.accessAllowed ? 'block' : 'none';\n",
              "\n",
              "        async function convertToInteractive(key) {\n",
              "          const element = document.querySelector('#df-8c27282c-95ee-46d0-9aca-d7de61c5470c');\n",
              "          const dataTable =\n",
              "            await google.colab.kernel.invokeFunction('convertToInteractive',\n",
              "                                                     [key], {});\n",
              "          if (!dataTable) return;\n",
              "\n",
              "          const docLinkHtml = 'Like what you see? Visit the ' +\n",
              "            '<a target=\"_blank\" href=https://colab.research.google.com/notebooks/data_table.ipynb>data table notebook</a>'\n",
              "            + ' to learn more about interactive tables.';\n",
              "          element.innerHTML = '';\n",
              "          dataTable['output_type'] = 'display_data';\n",
              "          await google.colab.output.renderOutput(dataTable, element);\n",
              "          const docLink = document.createElement('div');\n",
              "          docLink.innerHTML = docLinkHtml;\n",
              "          element.appendChild(docLink);\n",
              "        }\n",
              "      </script>\n",
              "    </div>\n",
              "  </div>\n",
              "  "
            ]
          },
          "metadata": {},
          "execution_count": 9
        }
      ]
    },
    {
      "cell_type": "code",
      "source": [
        "train_df['Occupancy'].unique()"
      ],
      "metadata": {
        "colab": {
          "base_uri": "https://localhost:8080/"
        },
        "id": "edS3xZsSPeoV",
        "outputId": "dea0be23-ec86-4ad6-e5c1-8e1a797c80a5"
      },
      "execution_count": 10,
      "outputs": [
        {
          "output_type": "execute_result",
          "data": {
            "text/plain": [
              "array([1, 0])"
            ]
          },
          "metadata": {},
          "execution_count": 10
        }
      ]
    },
    {
      "cell_type": "code",
      "source": [
        "test_df.head(3)"
      ],
      "metadata": {
        "colab": {
          "base_uri": "https://localhost:8080/",
          "height": 143
        },
        "id": "U88jvv9nLFZw",
        "outputId": "7fd492fb-9228-4d97-f298-d4eb07cc98f2"
      },
      "execution_count": 11,
      "outputs": [
        {
          "output_type": "execute_result",
          "data": {
            "text/plain": [
              "     Temperature  Humidity       Light         CO2  HumidityRatio  Occupancy\n",
              "140       23.700    26.272  585.200000  749.200000       0.004764          1\n",
              "141       23.718    26.290  578.400000  760.400000       0.004773          1\n",
              "142       23.730    26.230  572.666667  769.666667       0.004765          1"
            ],
            "text/html": [
              "\n",
              "  <div id=\"df-1d128f3a-2ec1-477f-b937-268905e70f87\">\n",
              "    <div class=\"colab-df-container\">\n",
              "      <div>\n",
              "<style scoped>\n",
              "    .dataframe tbody tr th:only-of-type {\n",
              "        vertical-align: middle;\n",
              "    }\n",
              "\n",
              "    .dataframe tbody tr th {\n",
              "        vertical-align: top;\n",
              "    }\n",
              "\n",
              "    .dataframe thead th {\n",
              "        text-align: right;\n",
              "    }\n",
              "</style>\n",
              "<table border=\"1\" class=\"dataframe\">\n",
              "  <thead>\n",
              "    <tr style=\"text-align: right;\">\n",
              "      <th></th>\n",
              "      <th>Temperature</th>\n",
              "      <th>Humidity</th>\n",
              "      <th>Light</th>\n",
              "      <th>CO2</th>\n",
              "      <th>HumidityRatio</th>\n",
              "      <th>Occupancy</th>\n",
              "    </tr>\n",
              "  </thead>\n",
              "  <tbody>\n",
              "    <tr>\n",
              "      <th>140</th>\n",
              "      <td>23.700</td>\n",
              "      <td>26.272</td>\n",
              "      <td>585.200000</td>\n",
              "      <td>749.200000</td>\n",
              "      <td>0.004764</td>\n",
              "      <td>1</td>\n",
              "    </tr>\n",
              "    <tr>\n",
              "      <th>141</th>\n",
              "      <td>23.718</td>\n",
              "      <td>26.290</td>\n",
              "      <td>578.400000</td>\n",
              "      <td>760.400000</td>\n",
              "      <td>0.004773</td>\n",
              "      <td>1</td>\n",
              "    </tr>\n",
              "    <tr>\n",
              "      <th>142</th>\n",
              "      <td>23.730</td>\n",
              "      <td>26.230</td>\n",
              "      <td>572.666667</td>\n",
              "      <td>769.666667</td>\n",
              "      <td>0.004765</td>\n",
              "      <td>1</td>\n",
              "    </tr>\n",
              "  </tbody>\n",
              "</table>\n",
              "</div>\n",
              "      <button class=\"colab-df-convert\" onclick=\"convertToInteractive('df-1d128f3a-2ec1-477f-b937-268905e70f87')\"\n",
              "              title=\"Convert this dataframe to an interactive table.\"\n",
              "              style=\"display:none;\">\n",
              "        \n",
              "  <svg xmlns=\"http://www.w3.org/2000/svg\" height=\"24px\"viewBox=\"0 0 24 24\"\n",
              "       width=\"24px\">\n",
              "    <path d=\"M0 0h24v24H0V0z\" fill=\"none\"/>\n",
              "    <path d=\"M18.56 5.44l.94 2.06.94-2.06 2.06-.94-2.06-.94-.94-2.06-.94 2.06-2.06.94zm-11 1L8.5 8.5l.94-2.06 2.06-.94-2.06-.94L8.5 2.5l-.94 2.06-2.06.94zm10 10l.94 2.06.94-2.06 2.06-.94-2.06-.94-.94-2.06-.94 2.06-2.06.94z\"/><path d=\"M17.41 7.96l-1.37-1.37c-.4-.4-.92-.59-1.43-.59-.52 0-1.04.2-1.43.59L10.3 9.45l-7.72 7.72c-.78.78-.78 2.05 0 2.83L4 21.41c.39.39.9.59 1.41.59.51 0 1.02-.2 1.41-.59l7.78-7.78 2.81-2.81c.8-.78.8-2.07 0-2.86zM5.41 20L4 18.59l7.72-7.72 1.47 1.35L5.41 20z\"/>\n",
              "  </svg>\n",
              "      </button>\n",
              "      \n",
              "  <style>\n",
              "    .colab-df-container {\n",
              "      display:flex;\n",
              "      flex-wrap:wrap;\n",
              "      gap: 12px;\n",
              "    }\n",
              "\n",
              "    .colab-df-convert {\n",
              "      background-color: #E8F0FE;\n",
              "      border: none;\n",
              "      border-radius: 50%;\n",
              "      cursor: pointer;\n",
              "      display: none;\n",
              "      fill: #1967D2;\n",
              "      height: 32px;\n",
              "      padding: 0 0 0 0;\n",
              "      width: 32px;\n",
              "    }\n",
              "\n",
              "    .colab-df-convert:hover {\n",
              "      background-color: #E2EBFA;\n",
              "      box-shadow: 0px 1px 2px rgba(60, 64, 67, 0.3), 0px 1px 3px 1px rgba(60, 64, 67, 0.15);\n",
              "      fill: #174EA6;\n",
              "    }\n",
              "\n",
              "    [theme=dark] .colab-df-convert {\n",
              "      background-color: #3B4455;\n",
              "      fill: #D2E3FC;\n",
              "    }\n",
              "\n",
              "    [theme=dark] .colab-df-convert:hover {\n",
              "      background-color: #434B5C;\n",
              "      box-shadow: 0px 1px 3px 1px rgba(0, 0, 0, 0.15);\n",
              "      filter: drop-shadow(0px 1px 2px rgba(0, 0, 0, 0.3));\n",
              "      fill: #FFFFFF;\n",
              "    }\n",
              "  </style>\n",
              "\n",
              "      <script>\n",
              "        const buttonEl =\n",
              "          document.querySelector('#df-1d128f3a-2ec1-477f-b937-268905e70f87 button.colab-df-convert');\n",
              "        buttonEl.style.display =\n",
              "          google.colab.kernel.accessAllowed ? 'block' : 'none';\n",
              "\n",
              "        async function convertToInteractive(key) {\n",
              "          const element = document.querySelector('#df-1d128f3a-2ec1-477f-b937-268905e70f87');\n",
              "          const dataTable =\n",
              "            await google.colab.kernel.invokeFunction('convertToInteractive',\n",
              "                                                     [key], {});\n",
              "          if (!dataTable) return;\n",
              "\n",
              "          const docLinkHtml = 'Like what you see? Visit the ' +\n",
              "            '<a target=\"_blank\" href=https://colab.research.google.com/notebooks/data_table.ipynb>data table notebook</a>'\n",
              "            + ' to learn more about interactive tables.';\n",
              "          element.innerHTML = '';\n",
              "          dataTable['output_type'] = 'display_data';\n",
              "          await google.colab.output.renderOutput(dataTable, element);\n",
              "          const docLink = document.createElement('div');\n",
              "          docLink.innerHTML = docLinkHtml;\n",
              "          element.appendChild(docLink);\n",
              "        }\n",
              "      </script>\n",
              "    </div>\n",
              "  </div>\n",
              "  "
            ]
          },
          "metadata": {},
          "execution_count": 11
        }
      ]
    },
    {
      "cell_type": "code",
      "source": [
        "X_train = train_df.iloc[:,1:-1]"
      ],
      "metadata": {
        "id": "e6LlRH8rKnQK"
      },
      "execution_count": 12,
      "outputs": []
    },
    {
      "cell_type": "code",
      "source": [
        "y_train = train_df.iloc[:,-1]"
      ],
      "metadata": {
        "id": "FBGMQUe4MYGZ"
      },
      "execution_count": 13,
      "outputs": []
    },
    {
      "cell_type": "code",
      "source": [
        "y_train = np.asarray(y_train).astype('int64').reshape((-1,1))"
      ],
      "metadata": {
        "id": "5h_Owrjr30SK"
      },
      "execution_count": 14,
      "outputs": []
    },
    {
      "cell_type": "code",
      "source": [
        "X_test = test_df.iloc[:,1:-1]"
      ],
      "metadata": {
        "id": "UZ7huaS4Mfxv"
      },
      "execution_count": 15,
      "outputs": []
    },
    {
      "cell_type": "code",
      "source": [
        "y_test = test_df.iloc[:,-1]"
      ],
      "metadata": {
        "id": "pJUaB4yPMn5A"
      },
      "execution_count": 16,
      "outputs": []
    },
    {
      "cell_type": "code",
      "source": [
        "y_test = np.asarray(y_test).astype('int64').reshape((-1,1))"
      ],
      "metadata": {
        "id": "zFqer6UM3MyI"
      },
      "execution_count": 17,
      "outputs": []
    },
    {
      "cell_type": "code",
      "source": [
        "X_train.shape, y_train.shape, X_test.shape, y_test.shape"
      ],
      "metadata": {
        "colab": {
          "base_uri": "https://localhost:8080/"
        },
        "id": "2CoMfz6qMp1L",
        "outputId": "891fcf68-cc9c-4c89-8c3b-6fd0ce8b1405"
      },
      "execution_count": 18,
      "outputs": [
        {
          "output_type": "execute_result",
          "data": {
            "text/plain": [
              "((8143, 4), (8143, 1), (2665, 4), (2665, 1))"
            ]
          },
          "metadata": {},
          "execution_count": 18
        }
      ]
    },
    {
      "cell_type": "code",
      "source": [
        "# dividing training data to get validation data"
      ],
      "metadata": {
        "id": "vByQw6AzMw2u"
      },
      "execution_count": 19,
      "outputs": []
    },
    {
      "cell_type": "code",
      "source": [
        "#X_train, X_valid, y_train, y_valid = train_test_split(X_train, y_train, test_size=0.1)"
      ],
      "metadata": {
        "id": "tIS4Q9l5OEL9"
      },
      "execution_count": 20,
      "outputs": []
    },
    {
      "cell_type": "code",
      "source": [
        "# Using MinMaxScaler to scale the data"
      ],
      "metadata": {
        "id": "06tCJqu0OVEF"
      },
      "execution_count": 21,
      "outputs": []
    },
    {
      "cell_type": "code",
      "source": [
        "scaler = MinMaxScaler()"
      ],
      "metadata": {
        "id": "45xHA8hSOfyZ"
      },
      "execution_count": 22,
      "outputs": []
    },
    {
      "cell_type": "code",
      "source": [
        "X_train_scaled = scaler.fit_transform(X_train)\n",
        "# X_valid_scaled = scaler.transform(X_valid)\n",
        "X_test_scaled = scaler.transform(X_test)"
      ],
      "metadata": {
        "id": "t1X3pAnOOlM3"
      },
      "execution_count": 23,
      "outputs": []
    },
    {
      "cell_type": "code",
      "source": [
        "y_test.shape"
      ],
      "metadata": {
        "colab": {
          "base_uri": "https://localhost:8080/"
        },
        "id": "Fo1aSmYc7Sf-",
        "outputId": "83ee530a-5703-4e58-88fb-ac5a126df6be"
      },
      "execution_count": 24,
      "outputs": [
        {
          "output_type": "execute_result",
          "data": {
            "text/plain": [
              "(2665, 1)"
            ]
          },
          "metadata": {},
          "execution_count": 24
        }
      ]
    },
    {
      "cell_type": "code",
      "source": [
        "# changing labels to one hot"
      ],
      "metadata": {
        "id": "dByKW-SrOwdW"
      },
      "execution_count": 25,
      "outputs": []
    },
    {
      "cell_type": "code",
      "source": [
        "#y_train, y_valid, y_test = to_categorical(y_train), to_categorical(y_valid), to_categorical(y_test)"
      ],
      "metadata": {
        "id": "1NCK6ki2O8UC"
      },
      "execution_count": 26,
      "outputs": []
    },
    {
      "cell_type": "code",
      "source": [
        "# y_train, y_test = to_categorical(y_train), to_categorical(y_test)"
      ],
      "metadata": {
        "id": "E1HXNNns2HmB"
      },
      "execution_count": 27,
      "outputs": []
    },
    {
      "cell_type": "code",
      "source": [
        "y_train[2:]"
      ],
      "metadata": {
        "colab": {
          "base_uri": "https://localhost:8080/"
        },
        "id": "9hKhDIQS4MWs",
        "outputId": "7f9f63c4-021d-49d4-afc6-9746111e95be"
      },
      "execution_count": 28,
      "outputs": [
        {
          "output_type": "execute_result",
          "data": {
            "text/plain": [
              "array([[1],\n",
              "       [1],\n",
              "       [1],\n",
              "       ...,\n",
              "       [1],\n",
              "       [1],\n",
              "       [1]])"
            ]
          },
          "metadata": {},
          "execution_count": 28
        }
      ]
    },
    {
      "cell_type": "code",
      "source": [
        "y_test.shape"
      ],
      "metadata": {
        "colab": {
          "base_uri": "https://localhost:8080/"
        },
        "id": "R8nioGac4OU7",
        "outputId": "f6944585-a07e-417e-f465-4c41c53e5d9e"
      },
      "execution_count": 29,
      "outputs": [
        {
          "output_type": "execute_result",
          "data": {
            "text/plain": [
              "(2665, 1)"
            ]
          },
          "metadata": {},
          "execution_count": 29
        }
      ]
    },
    {
      "cell_type": "code",
      "source": [
        "# building the classification model"
      ],
      "metadata": {
        "id": "PscpecI2PIJi"
      },
      "execution_count": 30,
      "outputs": []
    },
    {
      "cell_type": "code",
      "source": [
        "model_layers_list = []"
      ],
      "metadata": {
        "id": "2IQma72z1gTl"
      },
      "execution_count": 31,
      "outputs": []
    },
    {
      "cell_type": "code",
      "source": [
        "# layers for first try\n",
        "model_layers_list.append([\n",
        "    tf.keras.layers.Dense(10, activation='relu'),\n",
        "    tf.keras.layers.Dense(20, activation='relu'),\n",
        "    tf.keras.layers.Dense(1, activation='sigmoid')\n",
        "])"
      ],
      "metadata": {
        "id": "hHgi_MzC1jS7"
      },
      "execution_count": 32,
      "outputs": []
    },
    {
      "cell_type": "code",
      "source": [
        "# layers with changed number of hidden units in the second layer\n",
        "model_layers_list.append([\n",
        "    tf.keras.layers.Dense(10, activation='relu'),\n",
        "    tf.keras.layers.Dense(50, activation='relu'),\n",
        "    tf.keras.layers.Dense(1, activation='sigmoid')\n",
        "])"
      ],
      "metadata": {
        "id": "067fOAng13n_"
      },
      "execution_count": 33,
      "outputs": []
    },
    {
      "cell_type": "code",
      "source": [
        "# layers with an added hidden unit as a third layer\n",
        "model_layers_list.append([\n",
        "    tf.keras.layers.Dense(10, activation='relu'),\n",
        "    tf.keras.layers.Dense(50, activation='relu'),\n",
        "    tf.keras.layers.Dense(35, activation='relu'),\n",
        "    tf.keras.layers.Dense(1, activation='sigmoid')\n",
        "])"
      ],
      "metadata": {
        "id": "hiv1sYuJ2Btn"
      },
      "execution_count": 34,
      "outputs": []
    },
    {
      "cell_type": "code",
      "source": [
        "def process_data(data):\n",
        "    return np.array(tf.argmax(data,axis=1),dtype='float32')"
      ],
      "metadata": {
        "id": "ANEzHShJ0yez"
      },
      "execution_count": 35,
      "outputs": []
    },
    {
      "cell_type": "code",
      "source": [
        "def execute_prediction_workflow(model_layer):\n",
        "  print(f'Trying for: {model_layer}')\n",
        "  model_class = ''\n",
        "  model_class = tf.keras.Sequential(model_layer)\n",
        "  \n",
        "  # print(model_class.summary())\n",
        "  \n",
        "  model_class.compile(loss='binary_crossentropy',\n",
        "                    optimizer='adam',\n",
        "                    metrics=['accuracy'])\n",
        "  \n",
        "  \n",
        "  fitModel = model_class.fit(X_train_scaled, y_train,\n",
        "                epochs=51, validation_split=0.3, \n",
        "                # verbose=0\n",
        "                )\n",
        "  \n",
        "  y_predict = model_class.predict(X_test_scaled[:1,:])\n",
        "\n",
        "  print(f'Predict shape: {y_predict.shape}')\n",
        "  print(f'Prediction for record: {y_predict[0]}')\n",
        "  print(f'Classification for 1st record: {np.argmax(y_predict[0])}')\n",
        "\n",
        "  train_loss, train_acc = model_class.evaluate(X_train_scaled, y_train)\n",
        "  test_loss, test_acc = model_class.evaluate(X_test_scaled, y_test)\n",
        "\n",
        "  print(f'Classification accuracy on training data: {train_acc}')\n",
        "  print(f'Classification accuracy on test data: {test_acc}')\n",
        "\n",
        "  test_predict = model_class.predict(X_test_scaled)\n",
        "  test_predict_labels = np.argmax(test_predict, axis=1)\n",
        "  conf_matrix = tf.math.confusion_matrix(labels=y_test, predictions=test_predict_labels)\n",
        "  print(f'Confusion matrix on predictions: {conf_matrix}')\n",
        "\n",
        "  fig = plt.figure(figsize = (15,4))\n",
        "  fig.add_subplot(121)\n",
        "  plt.plot(fitModel.history['accuracy'])\n",
        "  plt.plot(fitModel.history['val_accuracy'])\n",
        "  plt.legend(['Training Accuracy','Validation Accuracy'])\n",
        "  plt.title('Training and validation accuracy')\n",
        "  plt.xlabel('Epoch #')\n",
        "  plt.ylabel('Accuracy')\n",
        "\n",
        "  fig.add_subplot(122)\n",
        "  plt.plot(fitModel.history['loss'])\n",
        "  plt.plot(fitModel.history['val_loss'])\n",
        "  plt.legend(['Training Loss','Validation Loss'])\n",
        "  plt.title('Training and validation Loss')\n",
        "  plt.xlabel('Epoch #')\n",
        "  plt.ylabel('Loss')\n",
        "\n",
        "  return model_class\n",
        "\n"
      ],
      "metadata": {
        "id": "jBsIdNl02Klk"
      },
      "execution_count": 53,
      "outputs": []
    },
    {
      "cell_type": "markdown",
      "source": [
        "**Testing our model with the first set of layers - Architecture: 10-h1-1**\n",
        "\n"
      ],
      "metadata": {
        "id": "1YceMjyyn-DI"
      }
    },
    {
      "cell_type": "code",
      "source": [
        "model_class = execute_prediction_workflow(model_layers_list[0])\n",
        "model_class.summary()"
      ],
      "metadata": {
        "colab": {
          "base_uri": "https://localhost:8080/",
          "height": 1000
        },
        "id": "JluBmiPq44E0",
        "outputId": "57713cbb-fc07-403e-9593-e2cc46b2c8be"
      },
      "execution_count": 54,
      "outputs": [
        {
          "output_type": "stream",
          "name": "stdout",
          "text": [
            "Trying for: [<keras.layers.core.dense.Dense object at 0x7f7bf6d06ed0>, <keras.layers.core.dense.Dense object at 0x7f7bf64e9790>, <keras.layers.core.dense.Dense object at 0x7f7bf64e9f10>]\n",
            "Epoch 1/51\n",
            "179/179 [==============================] - 2s 4ms/step - loss: 0.0290 - accuracy: 0.9898 - val_loss: 2.0345 - val_accuracy: 0.9247\n",
            "Epoch 2/51\n",
            "179/179 [==============================] - 1s 3ms/step - loss: 0.0290 - accuracy: 0.9905 - val_loss: 1.8887 - val_accuracy: 0.9284\n",
            "Epoch 3/51\n",
            "179/179 [==============================] - 0s 3ms/step - loss: 0.0308 - accuracy: 0.9891 - val_loss: 1.7944 - val_accuracy: 0.9288\n",
            "Epoch 4/51\n",
            "179/179 [==============================] - 1s 3ms/step - loss: 0.0286 - accuracy: 0.9889 - val_loss: 1.7353 - val_accuracy: 0.9304\n",
            "Epoch 5/51\n",
            "179/179 [==============================] - 0s 3ms/step - loss: 0.0286 - accuracy: 0.9900 - val_loss: 1.8770 - val_accuracy: 0.9284\n",
            "Epoch 6/51\n",
            "179/179 [==============================] - 0s 3ms/step - loss: 0.0284 - accuracy: 0.9893 - val_loss: 1.7186 - val_accuracy: 0.9304\n",
            "Epoch 7/51\n",
            "179/179 [==============================] - 0s 3ms/step - loss: 0.0284 - accuracy: 0.9907 - val_loss: 1.7703 - val_accuracy: 0.9280\n",
            "Epoch 8/51\n",
            "179/179 [==============================] - 0s 3ms/step - loss: 0.0281 - accuracy: 0.9900 - val_loss: 2.0459 - val_accuracy: 0.9255\n",
            "Epoch 9/51\n",
            "179/179 [==============================] - 0s 3ms/step - loss: 0.0284 - accuracy: 0.9900 - val_loss: 1.7766 - val_accuracy: 0.9284\n",
            "Epoch 10/51\n",
            "179/179 [==============================] - 0s 3ms/step - loss: 0.0279 - accuracy: 0.9905 - val_loss: 2.1101 - val_accuracy: 0.9271\n",
            "Epoch 11/51\n",
            "179/179 [==============================] - 0s 3ms/step - loss: 0.0283 - accuracy: 0.9905 - val_loss: 1.7630 - val_accuracy: 0.9304\n",
            "Epoch 12/51\n",
            "179/179 [==============================] - 0s 3ms/step - loss: 0.0281 - accuracy: 0.9898 - val_loss: 1.7299 - val_accuracy: 0.9292\n",
            "Epoch 13/51\n",
            "179/179 [==============================] - 0s 3ms/step - loss: 0.0285 - accuracy: 0.9896 - val_loss: 1.5990 - val_accuracy: 0.9312\n",
            "Epoch 14/51\n",
            "179/179 [==============================] - 0s 2ms/step - loss: 0.0300 - accuracy: 0.9879 - val_loss: 1.5426 - val_accuracy: 0.9329\n",
            "Epoch 15/51\n",
            "179/179 [==============================] - 0s 2ms/step - loss: 0.0292 - accuracy: 0.9891 - val_loss: 1.8226 - val_accuracy: 0.9312\n",
            "Epoch 16/51\n",
            "179/179 [==============================] - 0s 2ms/step - loss: 0.0284 - accuracy: 0.9895 - val_loss: 2.0402 - val_accuracy: 0.9271\n",
            "Epoch 17/51\n",
            "179/179 [==============================] - 0s 2ms/step - loss: 0.0281 - accuracy: 0.9907 - val_loss: 1.8174 - val_accuracy: 0.9284\n",
            "Epoch 18/51\n",
            "179/179 [==============================] - 0s 3ms/step - loss: 0.0286 - accuracy: 0.9895 - val_loss: 1.7372 - val_accuracy: 0.9296\n",
            "Epoch 19/51\n",
            "179/179 [==============================] - 0s 3ms/step - loss: 0.0280 - accuracy: 0.9905 - val_loss: 1.8975 - val_accuracy: 0.9292\n",
            "Epoch 20/51\n",
            "179/179 [==============================] - 0s 2ms/step - loss: 0.0274 - accuracy: 0.9907 - val_loss: 1.7156 - val_accuracy: 0.9292\n",
            "Epoch 21/51\n",
            "179/179 [==============================] - 0s 2ms/step - loss: 0.0287 - accuracy: 0.9898 - val_loss: 1.9327 - val_accuracy: 0.9280\n",
            "Epoch 22/51\n",
            "179/179 [==============================] - 0s 2ms/step - loss: 0.0278 - accuracy: 0.9912 - val_loss: 1.8546 - val_accuracy: 0.9284\n",
            "Epoch 23/51\n",
            "179/179 [==============================] - 1s 3ms/step - loss: 0.0283 - accuracy: 0.9900 - val_loss: 1.8153 - val_accuracy: 0.9296\n",
            "Epoch 24/51\n",
            "179/179 [==============================] - 0s 3ms/step - loss: 0.0280 - accuracy: 0.9911 - val_loss: 1.8801 - val_accuracy: 0.9304\n",
            "Epoch 25/51\n",
            "179/179 [==============================] - 0s 2ms/step - loss: 0.0279 - accuracy: 0.9918 - val_loss: 1.9269 - val_accuracy: 0.9312\n",
            "Epoch 26/51\n",
            "179/179 [==============================] - 0s 3ms/step - loss: 0.0281 - accuracy: 0.9895 - val_loss: 1.9262 - val_accuracy: 0.9284\n",
            "Epoch 27/51\n",
            "179/179 [==============================] - 0s 3ms/step - loss: 0.0278 - accuracy: 0.9904 - val_loss: 1.7482 - val_accuracy: 0.9312\n",
            "Epoch 28/51\n",
            "179/179 [==============================] - 1s 3ms/step - loss: 0.0280 - accuracy: 0.9907 - val_loss: 1.8177 - val_accuracy: 0.9325\n",
            "Epoch 29/51\n",
            "179/179 [==============================] - 0s 3ms/step - loss: 0.0288 - accuracy: 0.9895 - val_loss: 1.8960 - val_accuracy: 0.9300\n",
            "Epoch 30/51\n",
            "179/179 [==============================] - 1s 8ms/step - loss: 0.0269 - accuracy: 0.9911 - val_loss: 2.0073 - val_accuracy: 0.9280\n",
            "Epoch 31/51\n",
            "179/179 [==============================] - 1s 7ms/step - loss: 0.0274 - accuracy: 0.9896 - val_loss: 1.9658 - val_accuracy: 0.9292\n",
            "Epoch 32/51\n",
            "179/179 [==============================] - 1s 4ms/step - loss: 0.0277 - accuracy: 0.9907 - val_loss: 2.0696 - val_accuracy: 0.9284\n",
            "Epoch 33/51\n",
            "179/179 [==============================] - 1s 5ms/step - loss: 0.0275 - accuracy: 0.9907 - val_loss: 2.1079 - val_accuracy: 0.9288\n",
            "Epoch 34/51\n",
            "179/179 [==============================] - 0s 2ms/step - loss: 0.0272 - accuracy: 0.9911 - val_loss: 2.2626 - val_accuracy: 0.9280\n",
            "Epoch 35/51\n",
            "179/179 [==============================] - 0s 3ms/step - loss: 0.0276 - accuracy: 0.9900 - val_loss: 2.3191 - val_accuracy: 0.9255\n",
            "Epoch 36/51\n",
            "179/179 [==============================] - 0s 3ms/step - loss: 0.0275 - accuracy: 0.9909 - val_loss: 2.1460 - val_accuracy: 0.9288\n",
            "Epoch 37/51\n",
            "179/179 [==============================] - 0s 2ms/step - loss: 0.0274 - accuracy: 0.9909 - val_loss: 2.1959 - val_accuracy: 0.9263\n",
            "Epoch 38/51\n",
            "179/179 [==============================] - 1s 3ms/step - loss: 0.0280 - accuracy: 0.9904 - val_loss: 1.9942 - val_accuracy: 0.9284\n",
            "Epoch 39/51\n",
            "179/179 [==============================] - 0s 2ms/step - loss: 0.0275 - accuracy: 0.9905 - val_loss: 1.8201 - val_accuracy: 0.9316\n",
            "Epoch 40/51\n",
            "179/179 [==============================] - 0s 3ms/step - loss: 0.0272 - accuracy: 0.9914 - val_loss: 1.9816 - val_accuracy: 0.9288\n",
            "Epoch 41/51\n",
            "179/179 [==============================] - 0s 3ms/step - loss: 0.0279 - accuracy: 0.9909 - val_loss: 2.1548 - val_accuracy: 0.9275\n",
            "Epoch 42/51\n",
            "179/179 [==============================] - 0s 2ms/step - loss: 0.0271 - accuracy: 0.9911 - val_loss: 2.0785 - val_accuracy: 0.9296\n",
            "Epoch 43/51\n",
            "179/179 [==============================] - 0s 2ms/step - loss: 0.0271 - accuracy: 0.9907 - val_loss: 2.3193 - val_accuracy: 0.9259\n",
            "Epoch 44/51\n",
            "179/179 [==============================] - 1s 3ms/step - loss: 0.0281 - accuracy: 0.9896 - val_loss: 1.8395 - val_accuracy: 0.9321\n",
            "Epoch 45/51\n",
            "179/179 [==============================] - 0s 3ms/step - loss: 0.0273 - accuracy: 0.9907 - val_loss: 1.9230 - val_accuracy: 0.9304\n",
            "Epoch 46/51\n",
            "179/179 [==============================] - 0s 3ms/step - loss: 0.0267 - accuracy: 0.9904 - val_loss: 2.0258 - val_accuracy: 0.9292\n",
            "Epoch 47/51\n",
            "179/179 [==============================] - 0s 2ms/step - loss: 0.0266 - accuracy: 0.9912 - val_loss: 2.0834 - val_accuracy: 0.9296\n",
            "Epoch 48/51\n",
            "179/179 [==============================] - 0s 3ms/step - loss: 0.0272 - accuracy: 0.9911 - val_loss: 2.0556 - val_accuracy: 0.9304\n",
            "Epoch 49/51\n",
            "179/179 [==============================] - 0s 3ms/step - loss: 0.0276 - accuracy: 0.9912 - val_loss: 2.0631 - val_accuracy: 0.9292\n",
            "Epoch 50/51\n",
            "179/179 [==============================] - 0s 2ms/step - loss: 0.0270 - accuracy: 0.9914 - val_loss: 2.2199 - val_accuracy: 0.9288\n",
            "Epoch 51/51\n",
            "179/179 [==============================] - 0s 3ms/step - loss: 0.0285 - accuracy: 0.9904 - val_loss: 2.1626 - val_accuracy: 0.9296\n",
            "1/1 [==============================] - 0s 51ms/step\n",
            "Predict shape: (1, 1)\n",
            "Prediction for record: [0.00117702]\n",
            "Classification for 1st record: 0\n",
            "255/255 [==============================] - 0s 2ms/step - loss: 0.6674 - accuracy: 0.9724\n",
            "84/84 [==============================] - 0s 2ms/step - loss: 0.2455 - accuracy: 0.9129\n",
            "Classification accuracy on training data: 0.9723688960075378\n",
            "Classification accuracy on test data: 0.912945568561554\n",
            "84/84 [==============================] - 0s 2ms/step\n",
            "Confusion matrix on predictions: [[1693    0]\n",
            " [ 972    0]]\n",
            "Model: \"sequential_10\"\n",
            "_________________________________________________________________\n",
            " Layer (type)                Output Shape              Param #   \n",
            "=================================================================\n",
            " dense (Dense)               (None, 10)                50        \n",
            "                                                                 \n",
            " dense_1 (Dense)             (None, 20)                220       \n",
            "                                                                 \n",
            " dense_2 (Dense)             (None, 1)                 21        \n",
            "                                                                 \n",
            "=================================================================\n",
            "Total params: 291\n",
            "Trainable params: 291\n",
            "Non-trainable params: 0\n",
            "_________________________________________________________________\n"
          ]
        },
        {
          "output_type": "display_data",
          "data": {
            "text/plain": [
              "<Figure size 1080x288 with 2 Axes>"
            ],
            "image/png": "[encoded data removed]"
          },
          "metadata": {}
        }
      ]
    },
    {
      "cell_type": "markdown",
      "source": [
        "**Testing our model with varying the hidden units. Architecture: 10-h1-1**\n",
        "\n"
      ],
      "metadata": {
        "id": "w7a7E-chu_7_"
      }
    },
    {
      "cell_type": "code",
      "source": [
        "model_class = execute_prediction_workflow(model_layers_list[1])\n",
        "model_class.summary()"
      ],
      "metadata": {
        "colab": {
          "base_uri": "https://localhost:8080/",
          "height": 1000
        },
        "id": "Lbo8HrU8QShx",
        "outputId": "b6dfa717-d845-41dc-f058-5b520f954693"
      },
      "execution_count": 55,
      "outputs": [
        {
          "output_type": "stream",
          "name": "stdout",
          "text": [
            "Trying for: [<keras.layers.core.dense.Dense object at 0x7f7bf64f0e10>, <keras.layers.core.dense.Dense object at 0x7f7bf5b6ef90>, <keras.layers.core.dense.Dense object at 0x7f7bf64f0e90>]\n",
            "Epoch 1/51\n",
            "179/179 [==============================] - 1s 4ms/step - loss: 0.0392 - accuracy: 0.9865 - val_loss: 0.2676 - val_accuracy: 0.9366\n",
            "Epoch 2/51\n",
            "179/179 [==============================] - 1s 3ms/step - loss: 0.0386 - accuracy: 0.9865 - val_loss: 0.2971 - val_accuracy: 0.9308\n",
            "Epoch 3/51\n",
            "179/179 [==============================] - 1s 3ms/step - loss: 0.0385 - accuracy: 0.9858 - val_loss: 0.3154 - val_accuracy: 0.9292\n",
            "Epoch 4/51\n",
            "179/179 [==============================] - 0s 3ms/step - loss: 0.0383 - accuracy: 0.9863 - val_loss: 0.3236 - val_accuracy: 0.9243\n",
            "Epoch 5/51\n",
            "179/179 [==============================] - 0s 3ms/step - loss: 0.0376 - accuracy: 0.9863 - val_loss: 0.3656 - val_accuracy: 0.9259\n",
            "Epoch 6/51\n",
            "179/179 [==============================] - 1s 3ms/step - loss: 0.0367 - accuracy: 0.9858 - val_loss: 0.3734 - val_accuracy: 0.9218\n",
            "Epoch 7/51\n",
            "179/179 [==============================] - 1s 3ms/step - loss: 0.0369 - accuracy: 0.9865 - val_loss: 0.4341 - val_accuracy: 0.9124\n",
            "Epoch 8/51\n",
            "179/179 [==============================] - 1s 3ms/step - loss: 0.0368 - accuracy: 0.9856 - val_loss: 0.4276 - val_accuracy: 0.9218\n",
            "Epoch 9/51\n",
            "179/179 [==============================] - 0s 3ms/step - loss: 0.0357 - accuracy: 0.9861 - val_loss: 0.4335 - val_accuracy: 0.9181\n",
            "Epoch 10/51\n",
            "179/179 [==============================] - 0s 3ms/step - loss: 0.0361 - accuracy: 0.9858 - val_loss: 0.4523 - val_accuracy: 0.9202\n",
            "Epoch 11/51\n",
            "179/179 [==============================] - 1s 3ms/step - loss: 0.0353 - accuracy: 0.9865 - val_loss: 0.5181 - val_accuracy: 0.9181\n",
            "Epoch 12/51\n",
            "179/179 [==============================] - 1s 3ms/step - loss: 0.0355 - accuracy: 0.9858 - val_loss: 0.4987 - val_accuracy: 0.9210\n",
            "Epoch 13/51\n",
            "179/179 [==============================] - 1s 3ms/step - loss: 0.0351 - accuracy: 0.9858 - val_loss: 0.5315 - val_accuracy: 0.9185\n",
            "Epoch 14/51\n",
            "179/179 [==============================] - 1s 3ms/step - loss: 0.0353 - accuracy: 0.9860 - val_loss: 0.5781 - val_accuracy: 0.9210\n",
            "Epoch 15/51\n",
            "179/179 [==============================] - 0s 3ms/step - loss: 0.0343 - accuracy: 0.9863 - val_loss: 0.6526 - val_accuracy: 0.9157\n",
            "Epoch 16/51\n",
            "179/179 [==============================] - 0s 3ms/step - loss: 0.0342 - accuracy: 0.9858 - val_loss: 0.5994 - val_accuracy: 0.9198\n",
            "Epoch 17/51\n",
            "179/179 [==============================] - 1s 3ms/step - loss: 0.0340 - accuracy: 0.9861 - val_loss: 0.6884 - val_accuracy: 0.9120\n",
            "Epoch 18/51\n",
            "179/179 [==============================] - 1s 3ms/step - loss: 0.0337 - accuracy: 0.9872 - val_loss: 0.6659 - val_accuracy: 0.9112\n",
            "Epoch 19/51\n",
            "179/179 [==============================] - 0s 3ms/step - loss: 0.0330 - accuracy: 0.9865 - val_loss: 0.6631 - val_accuracy: 0.9144\n",
            "Epoch 20/51\n",
            "179/179 [==============================] - 0s 3ms/step - loss: 0.0337 - accuracy: 0.9856 - val_loss: 0.6379 - val_accuracy: 0.9181\n",
            "Epoch 21/51\n",
            "179/179 [==============================] - 1s 3ms/step - loss: 0.0339 - accuracy: 0.9856 - val_loss: 0.6736 - val_accuracy: 0.9149\n",
            "Epoch 22/51\n",
            "179/179 [==============================] - 0s 3ms/step - loss: 0.0326 - accuracy: 0.9868 - val_loss: 0.6644 - val_accuracy: 0.9210\n",
            "Epoch 23/51\n",
            "179/179 [==============================] - 0s 3ms/step - loss: 0.0323 - accuracy: 0.9860 - val_loss: 0.7027 - val_accuracy: 0.9144\n",
            "Epoch 24/51\n",
            "179/179 [==============================] - 0s 3ms/step - loss: 0.0327 - accuracy: 0.9861 - val_loss: 0.8104 - val_accuracy: 0.9120\n",
            "Epoch 25/51\n",
            "179/179 [==============================] - 1s 3ms/step - loss: 0.0322 - accuracy: 0.9865 - val_loss: 0.7174 - val_accuracy: 0.9185\n",
            "Epoch 26/51\n",
            "179/179 [==============================] - 1s 3ms/step - loss: 0.0319 - accuracy: 0.9867 - val_loss: 0.6779 - val_accuracy: 0.9177\n",
            "Epoch 27/51\n",
            "179/179 [==============================] - 0s 3ms/step - loss: 0.0321 - accuracy: 0.9860 - val_loss: 0.7931 - val_accuracy: 0.9136\n",
            "Epoch 28/51\n",
            "179/179 [==============================] - 0s 3ms/step - loss: 0.0317 - accuracy: 0.9879 - val_loss: 1.0238 - val_accuracy: 0.9083\n",
            "Epoch 29/51\n",
            "179/179 [==============================] - 1s 3ms/step - loss: 0.0315 - accuracy: 0.9870 - val_loss: 0.7109 - val_accuracy: 0.9185\n",
            "Epoch 30/51\n",
            "179/179 [==============================] - 0s 3ms/step - loss: 0.0316 - accuracy: 0.9867 - val_loss: 0.7373 - val_accuracy: 0.9181\n",
            "Epoch 31/51\n",
            "179/179 [==============================] - 0s 3ms/step - loss: 0.0316 - accuracy: 0.9867 - val_loss: 0.7445 - val_accuracy: 0.9190\n",
            "Epoch 32/51\n",
            "179/179 [==============================] - 1s 3ms/step - loss: 0.0310 - accuracy: 0.9881 - val_loss: 0.8106 - val_accuracy: 0.9206\n",
            "Epoch 33/51\n",
            "179/179 [==============================] - 1s 3ms/step - loss: 0.0307 - accuracy: 0.9882 - val_loss: 0.8677 - val_accuracy: 0.9173\n",
            "Epoch 34/51\n",
            "179/179 [==============================] - 0s 3ms/step - loss: 0.0314 - accuracy: 0.9881 - val_loss: 0.7859 - val_accuracy: 0.9214\n",
            "Epoch 35/51\n",
            "179/179 [==============================] - 0s 3ms/step - loss: 0.0305 - accuracy: 0.9881 - val_loss: 0.8349 - val_accuracy: 0.9190\n",
            "Epoch 36/51\n",
            "179/179 [==============================] - 0s 3ms/step - loss: 0.0320 - accuracy: 0.9874 - val_loss: 0.8556 - val_accuracy: 0.9177\n",
            "Epoch 37/51\n",
            "179/179 [==============================] - 0s 3ms/step - loss: 0.0307 - accuracy: 0.9875 - val_loss: 0.7112 - val_accuracy: 0.9218\n",
            "Epoch 38/51\n",
            "179/179 [==============================] - 1s 3ms/step - loss: 0.0304 - accuracy: 0.9882 - val_loss: 0.7885 - val_accuracy: 0.9214\n",
            "Epoch 39/51\n",
            "179/179 [==============================] - 1s 3ms/step - loss: 0.0320 - accuracy: 0.9874 - val_loss: 0.8465 - val_accuracy: 0.9198\n",
            "Epoch 40/51\n",
            "179/179 [==============================] - 1s 3ms/step - loss: 0.0300 - accuracy: 0.9879 - val_loss: 0.8181 - val_accuracy: 0.9185\n",
            "Epoch 41/51\n",
            "179/179 [==============================] - 0s 3ms/step - loss: 0.0300 - accuracy: 0.9893 - val_loss: 0.8869 - val_accuracy: 0.9185\n",
            "Epoch 42/51\n",
            "179/179 [==============================] - 1s 3ms/step - loss: 0.0304 - accuracy: 0.9888 - val_loss: 0.8977 - val_accuracy: 0.9190\n",
            "Epoch 43/51\n",
            "179/179 [==============================] - 0s 3ms/step - loss: 0.0300 - accuracy: 0.9882 - val_loss: 0.8703 - val_accuracy: 0.9214\n",
            "Epoch 44/51\n",
            "179/179 [==============================] - 0s 3ms/step - loss: 0.0299 - accuracy: 0.9886 - val_loss: 0.8302 - val_accuracy: 0.9214\n",
            "Epoch 45/51\n",
            "179/179 [==============================] - 0s 3ms/step - loss: 0.0291 - accuracy: 0.9891 - val_loss: 0.9644 - val_accuracy: 0.9194\n",
            "Epoch 46/51\n",
            "179/179 [==============================] - 0s 3ms/step - loss: 0.0296 - accuracy: 0.9881 - val_loss: 0.8597 - val_accuracy: 0.9202\n",
            "Epoch 47/51\n",
            "179/179 [==============================] - 1s 3ms/step - loss: 0.0298 - accuracy: 0.9895 - val_loss: 0.9648 - val_accuracy: 0.9165\n",
            "Epoch 48/51\n",
            "179/179 [==============================] - 1s 3ms/step - loss: 0.0297 - accuracy: 0.9902 - val_loss: 0.8729 - val_accuracy: 0.9230\n",
            "Epoch 49/51\n",
            "179/179 [==============================] - 1s 3ms/step - loss: 0.0293 - accuracy: 0.9888 - val_loss: 0.8952 - val_accuracy: 0.9222\n",
            "Epoch 50/51\n",
            "179/179 [==============================] - 0s 3ms/step - loss: 0.0290 - accuracy: 0.9891 - val_loss: 0.9142 - val_accuracy: 0.9210\n",
            "Epoch 51/51\n",
            "179/179 [==============================] - 1s 3ms/step - loss: 0.0295 - accuracy: 0.9888 - val_loss: 0.9225 - val_accuracy: 0.9218\n",
            "1/1 [==============================] - 0s 51ms/step\n",
            "Predict shape: (1, 1)\n",
            "Prediction for record: [0.01727039]\n",
            "Classification for 1st record: 0\n",
            "255/255 [==============================] - 0s 2ms/step - loss: 0.2968 - accuracy: 0.9691\n",
            "84/84 [==============================] - 0s 2ms/step - loss: 0.1633 - accuracy: 0.9205\n",
            "Classification accuracy on training data: 0.9690531492233276\n",
            "Classification accuracy on test data: 0.9204502701759338\n",
            "84/84 [==============================] - 0s 1ms/step\n",
            "Confusion matrix on predictions: [[1693    0]\n",
            " [ 972    0]]\n",
            "Model: \"sequential_11\"\n",
            "_________________________________________________________________\n",
            " Layer (type)                Output Shape              Param #   \n",
            "=================================================================\n",
            " dense_3 (Dense)             (None, 10)                50        \n",
            "                                                                 \n",
            " dense_4 (Dense)             (None, 50)                550       \n",
            "                                                                 \n",
            " dense_5 (Dense)             (None, 1)                 51        \n",
            "                                                                 \n",
            "=================================================================\n",
            "Total params: 651\n",
            "Trainable params: 651\n",
            "Non-trainable params: 0\n",
            "_________________________________________________________________\n"
          ]
        },
        {
          "output_type": "display_data",
          "data": {
            "text/plain": [
              "<Figure size 1080x288 with 2 Axes>"
            ],
            "image/png": "[encoded data removed]"
          },
          "metadata": {}
        }
      ]
    },
    {
      "cell_type": "markdown",
      "source": [
        "**Testing our model with adding a hidden layer. Architecture: 10-h1-h2-1**"
      ],
      "metadata": {
        "id": "x_hZG5Wzvz7t"
      }
    },
    {
      "cell_type": "code",
      "source": [
        "model_class = execute_prediction_workflow(model_layers_list[2])\n",
        "model_class.summary()"
      ],
      "metadata": {
        "colab": {
          "base_uri": "https://localhost:8080/",
          "height": 1000
        },
        "id": "rwwEHo12u-1_",
        "outputId": "255bc9b0-425f-4e56-c9f4-d4330cf57406"
      },
      "execution_count": 56,
      "outputs": [
        {
          "output_type": "stream",
          "name": "stdout",
          "text": [
            "Trying for: [<keras.layers.core.dense.Dense object at 0x7f7bf64f27d0>, <keras.layers.core.dense.Dense object at 0x7f7bf64f3090>, <keras.layers.core.dense.Dense object at 0x7f7bf64f2890>, <keras.layers.core.dense.Dense object at 0x7f7bf64f2c90>]\n",
            "Epoch 1/51\n",
            "179/179 [==============================] - 1s 4ms/step - loss: 0.0274 - accuracy: 0.9907 - val_loss: 0.0986 - val_accuracy: 0.9623\n",
            "Epoch 2/51\n",
            "179/179 [==============================] - 1s 3ms/step - loss: 0.0285 - accuracy: 0.9911 - val_loss: 0.0912 - val_accuracy: 0.9832\n",
            "Epoch 3/51\n",
            "179/179 [==============================] - 1s 3ms/step - loss: 0.0273 - accuracy: 0.9912 - val_loss: 0.0804 - val_accuracy: 0.9853\n",
            "Epoch 4/51\n",
            "179/179 [==============================] - 1s 3ms/step - loss: 0.0274 - accuracy: 0.9912 - val_loss: 0.0855 - val_accuracy: 0.9849\n",
            "Epoch 5/51\n",
            "179/179 [==============================] - 1s 3ms/step - loss: 0.0295 - accuracy: 0.9900 - val_loss: 0.0641 - val_accuracy: 0.9881\n",
            "Epoch 6/51\n",
            "179/179 [==============================] - 1s 3ms/step - loss: 0.0282 - accuracy: 0.9904 - val_loss: 0.0847 - val_accuracy: 0.9861\n",
            "Epoch 7/51\n",
            "179/179 [==============================] - 1s 3ms/step - loss: 0.0275 - accuracy: 0.9907 - val_loss: 0.0832 - val_accuracy: 0.9865\n",
            "Epoch 8/51\n",
            "179/179 [==============================] - 0s 3ms/step - loss: 0.0278 - accuracy: 0.9914 - val_loss: 0.1108 - val_accuracy: 0.9816\n",
            "Epoch 9/51\n",
            "179/179 [==============================] - 1s 3ms/step - loss: 0.0271 - accuracy: 0.9904 - val_loss: 0.0849 - val_accuracy: 0.9877\n",
            "Epoch 10/51\n",
            "179/179 [==============================] - 1s 3ms/step - loss: 0.0279 - accuracy: 0.9912 - val_loss: 0.0842 - val_accuracy: 0.9865\n",
            "Epoch 11/51\n",
            "179/179 [==============================] - 1s 3ms/step - loss: 0.0275 - accuracy: 0.9907 - val_loss: 0.0980 - val_accuracy: 0.9758\n",
            "Epoch 12/51\n",
            "179/179 [==============================] - 1s 3ms/step - loss: 0.0271 - accuracy: 0.9900 - val_loss: 0.0912 - val_accuracy: 0.9840\n",
            "Epoch 13/51\n",
            "179/179 [==============================] - 1s 3ms/step - loss: 0.0279 - accuracy: 0.9904 - val_loss: 0.0853 - val_accuracy: 0.9853\n",
            "Epoch 14/51\n",
            "179/179 [==============================] - 1s 3ms/step - loss: 0.0262 - accuracy: 0.9907 - val_loss: 0.0876 - val_accuracy: 0.9853\n",
            "Epoch 15/51\n",
            "179/179 [==============================] - 1s 3ms/step - loss: 0.0262 - accuracy: 0.9912 - val_loss: 0.0860 - val_accuracy: 0.9877\n",
            "Epoch 16/51\n",
            "179/179 [==============================] - 1s 3ms/step - loss: 0.0292 - accuracy: 0.9905 - val_loss: 0.1092 - val_accuracy: 0.9726\n",
            "Epoch 17/51\n",
            "179/179 [==============================] - 1s 3ms/step - loss: 0.0270 - accuracy: 0.9923 - val_loss: 0.0963 - val_accuracy: 0.9668\n",
            "Epoch 18/51\n",
            "179/179 [==============================] - 1s 3ms/step - loss: 0.0263 - accuracy: 0.9904 - val_loss: 0.0683 - val_accuracy: 0.9885\n",
            "Epoch 19/51\n",
            "179/179 [==============================] - 1s 3ms/step - loss: 0.0266 - accuracy: 0.9912 - val_loss: 0.0799 - val_accuracy: 0.9681\n",
            "Epoch 20/51\n",
            "179/179 [==============================] - 1s 3ms/step - loss: 0.0259 - accuracy: 0.9914 - val_loss: 0.0682 - val_accuracy: 0.9705\n",
            "Epoch 21/51\n",
            "179/179 [==============================] - 1s 3ms/step - loss: 0.0251 - accuracy: 0.9916 - val_loss: 0.0526 - val_accuracy: 0.9914\n",
            "Epoch 22/51\n",
            "179/179 [==============================] - 0s 3ms/step - loss: 0.0263 - accuracy: 0.9896 - val_loss: 0.0493 - val_accuracy: 0.9935\n",
            "Epoch 23/51\n",
            "179/179 [==============================] - 0s 3ms/step - loss: 0.0273 - accuracy: 0.9904 - val_loss: 0.0569 - val_accuracy: 0.9902\n",
            "Epoch 24/51\n",
            "179/179 [==============================] - 1s 3ms/step - loss: 0.0259 - accuracy: 0.9912 - val_loss: 0.0665 - val_accuracy: 0.9889\n",
            "Epoch 25/51\n",
            "179/179 [==============================] - 1s 3ms/step - loss: 0.0252 - accuracy: 0.9912 - val_loss: 0.0635 - val_accuracy: 0.9902\n",
            "Epoch 26/51\n",
            "179/179 [==============================] - 1s 3ms/step - loss: 0.0253 - accuracy: 0.9912 - val_loss: 0.0758 - val_accuracy: 0.9881\n",
            "Epoch 27/51\n",
            "179/179 [==============================] - 1s 3ms/step - loss: 0.0262 - accuracy: 0.9900 - val_loss: 0.0663 - val_accuracy: 0.9898\n",
            "Epoch 28/51\n",
            "179/179 [==============================] - 1s 3ms/step - loss: 0.0253 - accuracy: 0.9925 - val_loss: 0.0720 - val_accuracy: 0.9877\n",
            "Epoch 29/51\n",
            "179/179 [==============================] - 1s 3ms/step - loss: 0.0260 - accuracy: 0.9916 - val_loss: 0.0667 - val_accuracy: 0.9894\n",
            "Epoch 30/51\n",
            "179/179 [==============================] - 1s 3ms/step - loss: 0.0255 - accuracy: 0.9907 - val_loss: 0.0919 - val_accuracy: 0.9861\n",
            "Epoch 31/51\n",
            "179/179 [==============================] - 1s 3ms/step - loss: 0.0280 - accuracy: 0.9895 - val_loss: 0.0883 - val_accuracy: 0.9865\n",
            "Epoch 32/51\n",
            "179/179 [==============================] - 1s 3ms/step - loss: 0.0272 - accuracy: 0.9895 - val_loss: 0.0786 - val_accuracy: 0.9885\n",
            "Epoch 33/51\n",
            "179/179 [==============================] - 1s 3ms/step - loss: 0.0269 - accuracy: 0.9909 - val_loss: 0.0819 - val_accuracy: 0.9877\n",
            "Epoch 34/51\n",
            "179/179 [==============================] - 1s 3ms/step - loss: 0.0251 - accuracy: 0.9918 - val_loss: 0.0908 - val_accuracy: 0.9857\n",
            "Epoch 35/51\n",
            "179/179 [==============================] - 1s 3ms/step - loss: 0.0260 - accuracy: 0.9900 - val_loss: 0.0642 - val_accuracy: 0.9898\n",
            "Epoch 36/51\n",
            "179/179 [==============================] - 0s 3ms/step - loss: 0.0260 - accuracy: 0.9909 - val_loss: 0.0929 - val_accuracy: 0.9861\n",
            "Epoch 37/51\n",
            "179/179 [==============================] - 1s 3ms/step - loss: 0.0244 - accuracy: 0.9918 - val_loss: 0.0839 - val_accuracy: 0.9881\n",
            "Epoch 38/51\n",
            "179/179 [==============================] - 1s 3ms/step - loss: 0.0263 - accuracy: 0.9914 - val_loss: 0.1085 - val_accuracy: 0.9832\n",
            "Epoch 39/51\n",
            "179/179 [==============================] - 1s 3ms/step - loss: 0.0258 - accuracy: 0.9916 - val_loss: 0.0973 - val_accuracy: 0.9857\n",
            "Epoch 40/51\n",
            "179/179 [==============================] - 1s 3ms/step - loss: 0.0248 - accuracy: 0.9904 - val_loss: 0.0867 - val_accuracy: 0.9873\n",
            "Epoch 41/51\n",
            "179/179 [==============================] - 0s 3ms/step - loss: 0.0255 - accuracy: 0.9907 - val_loss: 0.0624 - val_accuracy: 0.9902\n",
            "Epoch 42/51\n",
            "179/179 [==============================] - 1s 3ms/step - loss: 0.0266 - accuracy: 0.9909 - val_loss: 0.0937 - val_accuracy: 0.9853\n",
            "Epoch 43/51\n",
            "179/179 [==============================] - 1s 3ms/step - loss: 0.0267 - accuracy: 0.9905 - val_loss: 0.0917 - val_accuracy: 0.9849\n",
            "Epoch 44/51\n",
            "179/179 [==============================] - 1s 3ms/step - loss: 0.0240 - accuracy: 0.9916 - val_loss: 0.1561 - val_accuracy: 0.9746\n",
            "Epoch 45/51\n",
            "179/179 [==============================] - 1s 3ms/step - loss: 0.0255 - accuracy: 0.9914 - val_loss: 0.1113 - val_accuracy: 0.9652\n",
            "Epoch 46/51\n",
            "179/179 [==============================] - 1s 3ms/step - loss: 0.0255 - accuracy: 0.9918 - val_loss: 0.1009 - val_accuracy: 0.9689\n",
            "Epoch 47/51\n",
            "179/179 [==============================] - 1s 3ms/step - loss: 0.0256 - accuracy: 0.9919 - val_loss: 0.1790 - val_accuracy: 0.9689\n",
            "Epoch 48/51\n",
            "179/179 [==============================] - 1s 3ms/step - loss: 0.0276 - accuracy: 0.9907 - val_loss: 0.0587 - val_accuracy: 0.9713\n",
            "Epoch 49/51\n",
            "179/179 [==============================] - 1s 3ms/step - loss: 0.0247 - accuracy: 0.9914 - val_loss: 0.0674 - val_accuracy: 0.9701\n",
            "Epoch 50/51\n",
            "179/179 [==============================] - 1s 3ms/step - loss: 0.0266 - accuracy: 0.9909 - val_loss: 0.0680 - val_accuracy: 0.9910\n",
            "Epoch 51/51\n",
            "179/179 [==============================] - 1s 3ms/step - loss: 0.0246 - accuracy: 0.9918 - val_loss: 0.0686 - val_accuracy: 0.9906\n",
            "1/1 [==============================] - 0s 60ms/step\n",
            "Predict shape: (1, 1)\n",
            "Prediction for record: [0.92168194]\n",
            "Classification for 1st record: 0\n",
            "255/255 [==============================] - 0s 2ms/step - loss: 0.0365 - accuracy: 0.9916\n",
            "84/84 [==============================] - 0s 2ms/step - loss: 0.2674 - accuracy: 0.9137\n",
            "Classification accuracy on training data: 0.9916492700576782\n",
            "Classification accuracy on test data: 0.9136960506439209\n",
            "84/84 [==============================] - 0s 1ms/step\n",
            "Confusion matrix on predictions: [[1693    0]\n",
            " [ 972    0]]\n",
            "Model: \"sequential_12\"\n",
            "_________________________________________________________________\n",
            " Layer (type)                Output Shape              Param #   \n",
            "=================================================================\n",
            " dense_6 (Dense)             (None, 10)                50        \n",
            "                                                                 \n",
            " dense_7 (Dense)             (None, 50)                550       \n",
            "                                                                 \n",
            " dense_8 (Dense)             (None, 35)                1785      \n",
            "                                                                 \n",
            " dense_9 (Dense)             (None, 1)                 36        \n",
            "                                                                 \n",
            "=================================================================\n",
            "Total params: 2,421\n",
            "Trainable params: 2,421\n",
            "Non-trainable params: 0\n",
            "_________________________________________________________________\n"
          ]
        },
        {
          "output_type": "display_data",
          "data": {
            "text/plain": [
              "<Figure size 1080x288 with 2 Axes>"
            ],
            "image/png": "[encoded data removed]"
          },
          "metadata": {}
        }
      ]
    },
    {
      "cell_type": "markdown",
      "source": [
        "**Adding an additional hidden layer had a very little effect on the accuracy of the test data.***\n",
        "\n"
      ],
      "metadata": {
        "id": "7Bnvk6KLwo-P"
      }
    }
  ]
}